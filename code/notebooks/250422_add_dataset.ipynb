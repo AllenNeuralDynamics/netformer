{
 "cells": [
  {
   "cell_type": "markdown",
   "metadata": {},
   "source": [
    "# Purpose:\n",
    "- Find datasets and add them to the capsule"
   ]
  },
  {
   "cell_type": "code",
   "execution_count": 1,
   "metadata": {},
   "outputs": [],
   "source": [
    "from pathlib import Path\n",
    "import numpy as np\n",
    "import pandas as pd\n",
    "\n",
    "from lamf_analysis.code_ocean import capsule_data_utils as cdu\n",
    "\n",
    "%load_ext autoreload\n",
    "%autoreload 2\n",
    "%matplotlib inline  "
   ]
  },
  {
   "cell_type": "code",
   "execution_count": 2,
   "metadata": {},
   "outputs": [
    {
     "name": "stderr",
     "output_type": "stream",
     "text": [
      "WARNING:aind_session.utils.codeocean_utils:Not authorized to access data asset ID obtained from DocDB: subject_id=721291, id_='24b98691-a5b5-4b1f-9cdb-d6fab661939a'\n",
      "WARNING:aind_session.utils.codeocean_utils:Not authorized to access data asset ID obtained from DocDB: subject_id=721291, id_='0803d5e1-8512-48f2-88a8-2158e1cfeb36'\n",
      "/lamf-analysis/src/lamf_analysis/code_ocean/capsule_data_utils.py:149: UserWarning: No matching pupil data asset found for ['2024-04-16' '2024-05-24']\n",
      "  warnings.warn(f'No matching pupil data asset found for {mouse_session_df[mouse_session_df[\"pupil_data_asset_id\"] == 0].raw_data_date.values}')\n"
     ]
    },
    {
     "data": {
      "text/plain": [
       "False"
      ]
     },
     "execution_count": 2,
     "metadata": {},
     "output_type": "execute_result"
    }
   ],
   "source": [
    "mouse_id = 721291\n",
    "processed_date_after = None\n",
    "processed_date_before = None\n",
    "if mouse_id == 747107:\n",
    "    processed_date_after = '2025-02-01' # inclusive\n",
    "elif mouse_id == 755252:\n",
    "    processed_date_after = '2025-02-07' # inclusive\n",
    "elif mouse_id == 736963:\n",
    "    processed_date_before = '2024-12-31' # inclusive\n",
    "\n",
    "success, mouse_session_df = cdu.get_mouse_session_df(mouse_id,\n",
    "                                                    processed_date_after=processed_date_after,\n",
    "                                                    processed_date_before=processed_date_before)\n",
    "success\n"
   ]
  },
  {
   "cell_type": "code",
   "execution_count": 5,
   "metadata": {},
   "outputs": [
    {
     "name": "stdout",
     "output_type": "stream",
     "text": [
      "asset_id: 37f7d09a-5ce1-40c7-982e-2efad0aac6c2 - mount_state: \n",
      "asset_id: 2cc62525-a8f9-4536-803f-fd7e9c839c9a - mount_state: \n",
      "asset_id: 26bf1a82-eb80-4952-a0c7-28a7cb284cec - mount_state: \n",
      "asset_id: a9179501-978e-4c63-99b6-93c386798147 - mount_state: \n",
      "asset_id: 918d706b-e916-496c-b7b8-abbaedf57b06 - mount_state: \n",
      "asset_id: 3e6796df-b528-4ee3-9434-b9d2227e1aa9 - mount_state: \n",
      "asset_id: bc3a5aa4-ed25-45e1-b88e-96346d245a0d - mount_state: \n",
      "asset_id: 8a9d0c07-38c2-4f1d-ab38-7b950f28f3d3 - mount_state: \n",
      "asset_id: 53ec59a9-d3ae-4abd-b6cc-f4204b888d30 - mount_state: \n",
      "asset_id: 54e423fc-f898-4b31-bfb2-3ce2dea597e2 - mount_state: \n",
      "asset_id: 0a48800d-9fe8-4c49-aeb6-e6cc244cda1b - mount_state: \n",
      "asset_id: f9481739-65de-4594-af87-f6e610f02364 - mount_state: \n",
      "asset_id: e5e9533d-9aa4-45b2-b2a4-b23ef8cda415 - mount_state: mounted\n",
      "asset_id: 93bebb64-1ed7-47cf-ac52-02fb57aacf94 - mount_state: mounted\n",
      "asset_id: 17b66802-171a-4d95-9a97-e6b5d6732ac0 - mount_state: mounted\n",
      "asset_id: e00f1469-bfe9-4f87-aafb-f1aa358ca0c9 - mount_state: mounted\n",
      "asset_id: d66b8573-072b-4f2d-9064-32d8ad161c47 - mount_state: mounted\n",
      "asset_id: cad98ae0-54dc-4e36-a706-fb305ddc3144 - mount_state: mounted\n",
      "asset_id: 67838a9b-bf80-4f9d-8cec-b35d4818ff0b - mount_state: mounted\n",
      "asset_id: c3367a29-93a4-4f00-b87a-0238c25d5efa - mount_state: mounted\n",
      "asset_id: b88b7133-3aa7-45d0-99a8-421455840136 - mount_state: mounted\n",
      "asset_id: 6876f6a3-503b-4b85-aa40-15984bc78a7d - mount_state: mounted\n",
      "asset_id: 6ff7a9d5-dedc-462c-948e-2de3f3a19850 - mount_state: mounted\n",
      "asset_id: f27003c4-2c6d-4a0d-9b7c-f9a67a33d7d0 - mount_state: mounted\n",
      "asset_id: 140d61a6-a4df-4530-b101-6cbe1a0a9887 - mount_state: mounted\n",
      "asset_id: 3a23e7b3-d172-473f-8b43-eca0a453ffe0 - mount_state: mounted\n",
      "asset_id: bcbf2ca3-6ded-43de-a501-176d48876dc8 - mount_state: mounted\n",
      "asset_id: 67ef69c3-64e1-4d33-a826-d7f9ec7da074 - mount_state: mounted\n",
      "asset_id: 4badab0c-6601-45ad-b0ee-b7fda2ffe577 - mount_state: mounted\n",
      "asset_id: 3726a61d-73bd-4607-bf4d-6d19c43ebf04 - mount_state: mounted\n",
      "asset_id: 6fa0e6eb-3cf4-49f3-8fbd-3610e9815c38 - mount_state: mounted\n",
      "asset_id: 2c347f5e-58bd-4f06-8cfc-fdcca3049baf - mount_state: mounted\n",
      "asset_id: 7579ea92-ea8f-4d76-8152-f84012997169 - mount_state: mounted\n",
      "asset_id: 6a31e5bc-e5a7-4617-ac94-61e879858ed5 - mount_state: mounted\n",
      "asset_id: 20fe1970-5fa8-4182-bc82-4aff0e2b6559 - mount_state: mounted\n",
      "asset_id: 76583037-94fb-4cd2-8ea1-5e6ae013b250 - mount_state: mounted\n"
     ]
    },
    {
     "data": {
      "text/plain": [
       "True"
      ]
     },
     "execution_count": 5,
     "metadata": {},
     "output_type": "execute_result"
    }
   ],
   "source": [
    "session_df = mouse_session_df[1:-1]\n",
    "cdu.attach_mouse_data_assets(session_df)"
   ]
  }
 ],
 "metadata": {
  "language_info": {
   "name": "python"
  }
 },
 "nbformat": 4,
 "nbformat_minor": 2
}
